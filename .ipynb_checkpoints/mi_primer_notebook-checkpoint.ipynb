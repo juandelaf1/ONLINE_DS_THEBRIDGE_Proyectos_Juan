{
 "cells": [
  {
   "cell_type": "code",
   "execution_count": 1,
   "id": "9ec9d54b-2a1e-4a77-9004-f57585732b3e",
   "metadata": {},
   "outputs": [
    {
     "name": "stdout",
     "output_type": "stream",
     "text": [
      "Hola Mundo\n"
     ]
    }
   ],
   "source": [
    "print (\"Hola Mundo\")"
   ]
  },
  {
   "cell_type": "markdown",
   "id": "2ce23b2a-6994-4aca-be78-30d59db557d4",
   "metadata": {},
   "source": [
    "Hola Mundo"
   ]
  },
  {
   "cell_type": "code",
   "execution_count": null,
   "id": "dbfea234-4dd9-4220-ac24-3fde9d41678f",
   "metadata": {},
   "outputs": [],
   "source": []
  }
 ],
 "metadata": {
  "kernelspec": {
   "display_name": "Python 3 (ipykernel)",
   "language": "python",
   "name": "python3"
  },
  "language_info": {
   "codemirror_mode": {
    "name": "ipython",
    "version": 3
   },
   "file_extension": ".py",
   "mimetype": "text/x-python",
   "name": "python",
   "nbconvert_exporter": "python",
   "pygments_lexer": "ipython3",
   "version": "3.13.1"
  }
 },
 "nbformat": 4,
 "nbformat_minor": 5
}
