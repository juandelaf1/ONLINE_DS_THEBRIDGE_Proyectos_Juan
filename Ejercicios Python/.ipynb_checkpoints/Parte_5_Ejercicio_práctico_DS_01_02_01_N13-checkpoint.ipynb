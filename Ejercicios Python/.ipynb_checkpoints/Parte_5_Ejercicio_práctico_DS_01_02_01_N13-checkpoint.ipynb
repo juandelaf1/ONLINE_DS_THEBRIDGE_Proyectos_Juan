{
 "cells": [
  {
   "cell_type": "markdown",
   "metadata": {
    "id": "AyOlWS2nRWxH"
   },
   "source": [
    "## PRACTICA OBLIGATORIA: COLECCIONES Y FUNCIONES"
   ]
  },
  {
   "cell_type": "markdown",
   "metadata": {
    "id": "6UOgb0KVRWxH"
   },
   "source": [
    "* La práctica obligatoria de esta unidad consiste varios ejercicios de programación libre a completar sobre Colecciones y Funciones. Descarga este notebook en tu ordenador y trabaja en local.  \n",
    "* Recuerda que debes subirla a tu repositorio personal antes de la sesión en vivo para que puntúe adecuadamente y puedas participar en dicha sesión.  \n",
    "* Recuerda también que no es necesario que esté perfecta, sólo es necesario que se vea el esfuerzo.\n",
    "* Esta práctica se resolverá en la sesión en vivo correspondiente y la solución se publicará en el repo del curso."
   ]
  },
  {
   "cell_type": "markdown",
   "metadata": {
    "id": "j3yu-tEjRWxH"
   },
   "source": [
    "### Contenidos"
   ]
  },
  {
   "cell_type": "markdown",
   "metadata": {
    "id": "kO-fLH39RWxH"
   },
   "source": [
    "## Ejercicio 1\n",
    "Eleva todos los elementos de la lista al cuadrado\n",
    "> ```ejer_2 = [1,2,3,4,5]```"
   ]
  },
  {
   "cell_type": "code",
   "execution_count": 22,
   "metadata": {
    "id": "ks5l3yi7RWxH"
   },
   "outputs": [
    {
     "name": "stdout",
     "output_type": "stream",
     "text": [
      "1\n",
      "4\n",
      "9\n",
      "16\n",
      "25\n"
     ]
    }
   ],
   "source": [
    "\n",
    "ejer_2=[1,2,3,4,5]\n",
    "for i  in ejer_2:\n",
    "    resultado=i**2\n",
    "    print(resultado)\n",
    "\n",
    "\n",
    "\n"
   ]
  },
  {
   "cell_type": "markdown",
   "metadata": {
    "id": "kI_Xr5oFRWxI"
   },
   "source": [
    "## Ejercicio 2\n",
    "Haz un programa que detecte todos los duplicados de un elemento en una lista:\n",
    "* Utiliza una variable duplicado para asignarle el valor del elemento del que queremos encontrar todos sus duplicados.\n",
    "* El programa debe devolver todos los índices de los elementos duplicados.\n",
    "* Aplícalo para encontrar los duplicados de \"un\", \"es\" y \"binario\" de:  \n",
    "\n",
    ">```ejer_3 = [\"Un\", \"árbol\", \"binario\", \"es\", \"una\", \"estructura\", \"de\", \"un\", \"tipo\", \"particular\", \"a\", \"veces\", \"no\", \"es\", \"ni\", \"binario\"]```\n"
   ]
  },
  {
   "cell_type": "code",
   "execution_count": 270,
   "metadata": {},
   "outputs": [
    {
     "name": "stdin",
     "output_type": "stream",
     "text": [
      "Ingrese caracter a hallar:  un\n",
      "Ingrese caracter a hallar:  es\n",
      "Ingrese caracter a hallar:  binario\n"
     ]
    },
    {
     "name": "stdout",
     "output_type": "stream",
     "text": [
      "[0, 7] [3, 13] [2, 15]\n"
     ]
    }
   ],
   "source": [
    "ejer_3 = [\"Un\", \"árbol\", \"binario\", \"es\", \"una\", \"estructura\", \"de\", \"un\", \"tipo\", \"particular\", \"a\", \"veces\", \"no\", \"es\", \"ni\", \"binario\"]\n",
    "ejer_3 [0] = \"un\"\n",
    "\n",
    "caracter =(input (\"Ingrese caracter a hallar: \",  ))\n",
    "duplicados =[i for i, val in enumerate(ejer_3) \n",
    "             if val == caracter]\n",
    "            \n",
    "caracter =(input (\"Ingrese caracter a hallar: \",  ))\n",
    "duplica2 =[i for i, val in enumerate(ejer_3) \n",
    "             if val == caracter]\n",
    "\n",
    "caracter =(input (\"Ingrese caracter a hallar: \",  ))\n",
    "duplica3 =[i for i, val in enumerate(ejer_3) \n",
    "             if val == caracter]\n",
    "\n",
    "\n",
    "print(duplicados , duplica2, duplica3)\n"
   ]
  },
  {
   "cell_type": "code",
   "execution_count": 278,
   "metadata": {
    "id": "cLY9WB7YRWxI"
   },
   "outputs": [
    {
     "name": "stdout",
     "output_type": "stream",
     "text": [
      "16\n",
      "2\n",
      "2\n",
      "2\n"
     ]
    }
   ],
   "source": [
    "frase = [\"Un\", \"árbol\", \"binario\", \"es\", \"una\", \"estructura\", \"de\", \"un\", \"tipo\", \"particular\", \"a\", \"veces\", \"no\", \"es\", \"ni\", \"binario\"]\n",
    "frase [0] = \"un\"\n",
    "\n",
    "if len(frase) == len(set(frase)):\n",
    "    print\n",
    "long_frase =(len(frase))\n",
    "print(long_frase) \n",
    "duplicado = frase.count(\"un\")\n",
    "print(duplicado)\n",
    "duplicado_2 = frase.count(\"es\")\n",
    "print(duplicado_2)\n",
    "duplicado_3 = frase.count(\"binario\")\n",
    "print ( duplicado_3)\n",
    "\n",
    "\n",
    "\n",
    "\n",
    "    "
   ]
  },
  {
   "cell_type": "markdown",
   "metadata": {
    "id": "3WrBd5QaRWxI"
   },
   "source": [
    "## Ejercicio 3\n",
    "1. ¿Cuántas veces se repite el 3 en la siguiente tupla?\n",
    "2. Crea una tupla nueva con los elementos desde la posicion 5 a la 10.\n",
    "3. ¿Cuántos elementos tiene la tupla `ejer_3`?\n",
    "> ```ejer_9 = (3, 20, 3, 47, 19, 3, 29, 45, 67, 78, 90, 3, 3, 5, 2, 4, 7, 9, 4, 2, 4, 3, 3, 4, 6, 7)```"
   ]
  },
  {
   "cell_type": "code",
   "execution_count": 80,
   "metadata": {
    "id": "bkv_R5LYRWxI"
   },
   "outputs": [
    {
     "name": "stdout",
     "output_type": "stream",
     "text": [
      "7\n",
      "(3, 29, 45, 67, 78)\n",
      "16\n",
      "26\n"
     ]
    }
   ],
   "source": [
    "\n",
    "tupla = (3, 20, 3, 47, 19, 3, 29, 45, 67, 78, 90, 3, 3, 5, 2, 4, 7, 9, 4, 2, 4, 3, 3, 4, 6, 7)\n",
    "\n",
    "cantidad_3 = tupla.count(3)\n",
    "print(cantidad_3)\n",
    "\n",
    "nueva_tupla = (tupla[5:10])\n",
    "print(nueva_tupla)\n",
    "\n",
    "ejer_3 = [\"Un\", \"árbol\", \"binario\", \"es\", \"una\", \"estructura\", \"de\", \"un\", \"tipo\", \"particular\", \"a\", \"veces\", \"no\", \"es\", \"ni\", \"binario\"]\n",
    "tupla_3 = len(ejer_3)\n",
    "print(tupla_3)\n",
    "\n",
    "print(len(tupla))"
   ]
  },
  {
   "cell_type": "markdown",
   "metadata": {
    "id": "6g8Y54AeRWxI"
   },
   "source": [
    "## Ejercicio 4\n",
    "Comprueba si el numero 60 esta en la tupla del ejercicio 3"
   ]
  },
  {
   "cell_type": "code",
   "execution_count": 112,
   "metadata": {
    "id": "F8VTEZonRWxI"
   },
   "outputs": [
    {
     "name": "stdout",
     "output_type": "stream",
     "text": [
      "False\n"
     ]
    },
    {
     "ename": "ValueError",
     "evalue": "tuple.index(x): x not in tuple",
     "output_type": "error",
     "traceback": [
      "\u001b[1;31m---------------------------------------------------------------------------\u001b[0m",
      "\u001b[1;31mValueError\u001b[0m                                Traceback (most recent call last)",
      "Cell \u001b[1;32mIn[112], line 6\u001b[0m\n\u001b[0;32m      3\u001b[0m \u001b[38;5;28;01melse\u001b[39;00m:\n\u001b[0;32m      4\u001b[0m     \u001b[38;5;28mprint\u001b[39m(\u001b[38;5;28;01mFalse\u001b[39;00m)\n\u001b[1;32m----> 6\u001b[0m sesenta \u001b[38;5;241m=\u001b[39m \u001b[43mtupla\u001b[49m\u001b[38;5;241;43m.\u001b[39;49m\u001b[43mindex\u001b[49m\u001b[43m(\u001b[49m\u001b[38;5;124;43m\"\u001b[39;49m\u001b[38;5;124;43m60\u001b[39;49m\u001b[38;5;124;43m\"\u001b[39;49m\u001b[43m)\u001b[49m\n",
      "\u001b[1;31mValueError\u001b[0m: tuple.index(x): x not in tuple"
     ]
    }
   ],
   "source": [
    "if 1 == 60 in tupla:\n",
    "    print (True)\n",
    "else:\n",
    "    print(False)\n",
    "\n",
    "sesenta = tupla.index(\"60\")"
   ]
  },
  {
   "cell_type": "markdown",
   "metadata": {
    "id": "y0fg-ZA6RWxI"
   },
   "source": [
    "## Ejercicio 5\n",
    "1. Convierte la tupla del ejercicio 3 en una lista\n",
    "2. Convierte la tupla del ejercicio 3 en un set\n",
    "3. Convierte la tupla del ejercicio 3 en un diccionario. Usa también los indices"
   ]
  },
  {
   "cell_type": "code",
   "execution_count": 185,
   "metadata": {
    "id": "_O5hXr01RWxI"
   },
   "outputs": [
    {
     "name": "stdout",
     "output_type": "stream",
     "text": [
      "[3, 20, 3, 47, 19, 3, 29, 45, 67, 78, 90, 3, 3, 5, 2, 4, 7, 9, 4, 2, 4, 3, 3, 4, 6, 7]\n",
      "{2, 3, 67, 5, 4, 7, 6, 9, 45, 78, 47, 19, 20, 90, 29}\n",
      "(3, 20, 3, 47, 19, 3, 29, 45, 67, 78, 90, 3, 3, 5, 2, 4, 7, 9, 4, 2, 4, 3, 3, 4, 6, 7)\n",
      "{3: 4, 19: 3, 29: 45, 67: 78, 90: 3, 2: 4, 7: 9, 4: 3, 6: 7}\n",
      "3 : 4\n",
      "19 : 3\n",
      "29 : 45\n",
      "67 : 78\n",
      "90 : 3\n",
      "2 : 4\n",
      "7 : 9\n",
      "4 : 3\n",
      "6 : 7\n",
      "3 : 4\n",
      "19 : 3\n",
      "29 : 45\n",
      "67 : 78\n",
      "90 : 3\n",
      "2 : 4\n",
      "7 : 9\n",
      "4 : 3\n",
      "6 : 7\n"
     ]
    }
   ],
   "source": [
    "tupla = (3, 20, 3, 47, 19, 3, 29, 45, 67, 78, 90, 3, 3, 5, 2, 4, 7, 9, 4, 2, 4, 3, 3, 4, 6, 7)\n",
    "lista_convertida = list(tupla)\n",
    "print(lista_convertida)\n",
    "tupla_set = set(tupla)\n",
    "print(tupla_set)\n",
    "\n",
    "diccionario = dict(zip(tupla[0::2], tupla[1::2])) \n",
    "print(tupla) \n",
    "print(diccionario) \n",
    "for i in diccionario:\n",
    "    print((i) , \":\" , (diccionario[i]))\n",
    "   \n",
    "for clave,valor in diccionario.items():\n",
    "    print(clave, \":\", valor)\n"
   ]
  },
  {
   "cell_type": "markdown",
   "metadata": {
    "id": "eOdWWbxvRWxJ"
   },
   "source": [
    "## Ejercicio 6\n",
    "Multiplica todos los valores del diccionario\n",
    "> ```ejer_6 = {1: 11, 2: 22, 3: 33, 4: 44, 5: 55}```"
   ]
  },
  {
   "cell_type": "code",
   "execution_count": 327,
   "metadata": {
    "id": "KcuByovKRWxJ"
   },
   "outputs": [
    {
     "name": "stdout",
     "output_type": "stream",
     "text": [
      "19326120\n"
     ]
    }
   ],
   "source": [
    "ejer_6 = {1: 11, 2: 22, 3: 33, 4: 44, 5: 55}\n",
    "\n",
    "resultado = 1\n",
    " \n",
    "for i in ejer_6:\n",
    "    resultado = resultado*ejer_6[i]\n",
    " \n",
    "print(resultado)"
   ]
  },
  {
   "cell_type": "markdown",
   "metadata": {
    "id": "W7TUSaKRRWxJ"
   },
   "source": [
    "## Ejercicio 7\n",
    "\n",
    "1. Crea un diccionario que describa un libro, con los siguientes campos o claves: \"titulo\",\"autor\",\"idioma original\",\"año de publicación\".\n",
    "2. Crea un a lista, llamada librería.\n",
    "3. Añade cuatro libros a tu elección a la librería."
   ]
  },
  {
   "cell_type": "code",
   "execution_count": 472,
   "metadata": {},
   "outputs": [
    {
     "name": "stdout",
     "output_type": "stream",
     "text": [
      "{'titulo': 'El Aleph', 'autor': 'Jorge Luis Borges', 'idioma original': 'castellano', 'año de publicacion': '1949'}\n",
      "<class 'dict'>\n",
      "[]\n",
      "<class 'list'>\n",
      "[{'titulo': 'Rayuela', 'autor': 'Julio Cortazar', 'idioma original': 'castellano', 'año de publicacion': '1963'}, {'titulo': 'El Tunel', 'autor': 'Ernesto Sabato', 'idioma original': 'castellano', 'año de publicacion': '1948'}, {'titulo': 'Dubliners', 'autor': 'James Joyce', 'idioma original': 'ingles', 'año de publicacion': '1914'}, {'titulo': \"L'Écume Des Jours\", 'autor': 'Boris Vian', 'idioma original': 'Francés', 'año de publicacion': '1947'}]\n"
     ]
    }
   ],
   "source": [
    "aleph = {\n",
    "    \"titulo\":\"El Aleph\",\n",
    "    \"autor\": \"Jorge Luis Borges\",\n",
    "    \"idioma original\": \"castellano\",    \n",
    "    \"año de publicacion\" : \"1949\"\n",
    "}\n",
    "print(aleph)\n",
    "print(type(aleph))\n",
    "\n",
    "libreria1 = []\n",
    "print(libreria1)\n",
    "print(type(libreria1))\n",
    "\n",
    "rayuela = {\"titulo\":\"Rayuela\",\"autor\": \"Julio Cortazar\",\"idioma original\": \"castellano\",\"año de publicacion\": \"1963\"}\n",
    "\n",
    "tunel = {\"titulo\":\"El Tunel\",\"autor\": \"Ernesto Sabato\",\"idioma original\": \"castellano\",\"año de publicacion\": \"1948\"}\n",
    "\n",
    "dubliners = {\"titulo\":\"Dubliners\",\"autor\": \"James Joyce\",\"idioma original\": \"ingles\",\"año de publicacion\": \"1914\"}\n",
    "\n",
    "espuma = {\"titulo\":\"L'Écume Des Jours\",\"autor\": \"Boris Vian\",\"idioma original\": \"Francés\",\"año de publicacion\": \"1947\"}\n",
    "\n",
    "\n",
    "libreria1.append(rayuela)\n",
    "libreria1.append(tunel)\n",
    "libreria1.append(dubliners)\n",
    "libreria1.append(espuma)\n",
    "print(libreria1)\n",
    "\n",
    "\n",
    "\n"
   ]
  },
  {
   "cell_type": "code",
   "execution_count": null,
   "metadata": {},
   "outputs": [],
   "source": []
  },
  {
   "cell_type": "code",
   "execution_count": 409,
   "metadata": {
    "id": "d-IMRvxRRWxJ",
    "vscode": {
     "languageId": "plaintext"
    }
   },
   "outputs": [
    {
     "name": "stdout",
     "output_type": "stream",
     "text": [
      "[{'titulo': 'Rayuela', 'autor': 'Julio Cortazar', 'idioma original': 'castellano', 'año de publicacion': '1963'}, {'titulo': 'El Tunel', 'autor': 'Ernesto Sabato', 'idioma original': 'castellano', 'año de publicacion': '1948'}, {'titulo': 'Dubliners', 'autor': 'James Joyce', 'idioma original': 'ingles', 'año de publicacion': '1914'}, {'titulo': \"L'Écume Des Jours\", 'autor': 'Boris Vian', 'idioma original': 'Francés', 'año de publicacion': '1947'}]\n",
      "[{'titulo': 'Rayuela', 'autor': 'Julio Cortazar', 'idioma original': 'castellano', 'año de publicacion': '1963'}, {'titulo': 'El Tunel', 'autor': 'Ernesto Sabato', 'idioma original': 'castellano', 'año de publicacion': '1948'}, {'titulo': 'Dubliners', 'autor': 'James Joyce', 'idioma original': 'ingles', 'año de publicacion': '1914'}, {'titulo': \"L'Écume Des Jours\", 'autor': 'Boris Vian', 'idioma original': 'Francés', 'año de publicacion': '1947'}, {'titulo': 'El Aleph', 'autor': 'Jorge Luis Borges', 'idioma original': 'castellano', 'año de publicacion': '1949'}]\n"
     ]
    }
   ],
   "source": [
    "Aleph = {\n",
    "    \"titulo\":\"El Aleph\",\n",
    "    \"autor\": \"Jorge Luis Borges\",\n",
    "    \"idioma original\": \"castellano\",    \n",
    "    \"año de publicacion\" : \"1949\"\n",
    "}\n",
    "\n",
    "\n",
    "Rayuela = {\"titulo\":\"Rayuela\",\"autor\": \"Julio Cortazar\",\"idioma original\": \"castellano\",\"año de publicacion\": \"1963\"}\n",
    "\n",
    "El_tunel = {\"titulo\":\"El Tunel\",\"autor\": \"Ernesto Sabato\",\"idioma original\": \"castellano\",\"año de publicacion\": \"1948\"}\n",
    "\n",
    "Dubliners = {\"titulo\":\"Dubliners\",\"autor\": \"James Joyce\",\"idioma original\": \"ingles\",\"año de publicacion\": \"1914\"}\n",
    "\n",
    "La_Espuma_De_Los_Días = {\"titulo\":\"L'Écume Des Jours\",\"autor\": \"Boris Vian\",\"idioma original\": \"Francés\",\"año de publicacion\": \"1947\"}\n",
    "\n",
    "libreria =[Rayuela, El_tunel, Dubliners, La_Espuma_De_Los_Días ]\n",
    "print(libreria)\n",
    "libreria.append(Aleph)\n",
    "print(libreria)\n",
    "\n",
    "\n",
    "\n"
   ]
  },
  {
   "cell_type": "markdown",
   "metadata": {
    "id": "glMoedjYRWxJ"
   },
   "source": [
    "## Ejercicio 8\n",
    "Modifica los valores del idioma de todos los libros del ejercicio anterior para que sea \"esperanto\"\n"
   ]
  },
  {
   "cell_type": "code",
   "execution_count": 473,
   "metadata": {
    "id": "veNdC-uwRWxJ"
   },
   "outputs": [
    {
     "name": "stdout",
     "output_type": "stream",
     "text": [
      "titulo : Rayuela\n",
      "autor : Julio Cortazar\n",
      "idioma original : castellano\n",
      ",esperanto\n",
      "año de publicacion : 1963\n",
      "titulo : El Tunel\n",
      "autor : Ernesto Sabato\n",
      "idioma original : castellano\n",
      ",esperanto\n",
      "año de publicacion : 1948\n",
      "titulo : Dubliners\n",
      "autor : James Joyce\n",
      "idioma original : ingles\n",
      ",esperanto\n",
      "año de publicacion : 1914\n",
      "titulo : L'Écume Des Jours\n",
      "autor : Boris Vian\n",
      "idioma original : Francés\n",
      ",esperanto\n",
      "año de publicacion : 1947\n"
     ]
    }
   ],
   "source": [
    "\n",
    "for libro in libreria1:      \n",
    "    for clave,valor in libro.items():        \n",
    "        print(clave, \":\", valor)\n",
    "        if clave == \"idioma original\":\n",
    "         print(\",\" \"esperanto\")"
   ]
  },
  {
   "cell_type": "code",
   "execution_count": 474,
   "metadata": {},
   "outputs": [
    {
     "name": "stdout",
     "output_type": "stream",
     "text": [
      "[{'titulo': 'Rayuela', 'autor': 'Julio Cortazar', 'idioma original': 'esperanto', 'año de publicacion': '1963'}, {'titulo': 'El Tunel', 'autor': 'Ernesto Sabato', 'idioma original': 'esperanto', 'año de publicacion': '1948'}, {'titulo': 'Dubliners', 'autor': 'James Joyce', 'idioma original': 'esperanto', 'año de publicacion': '1914'}, {'titulo': \"L'Écume Des Jours\", 'autor': 'Boris Vian', 'idioma original': 'esperanto', 'año de publicacion': '1947'}]\n"
     ]
    }
   ],
   "source": [
    "for libro in libreria1:\n",
    "    libro[\"idioma original\"] = \"esperanto\"\n",
    "\n",
    "print(libreria1)\n",
    "\n"
   ]
  },
  {
   "cell_type": "markdown",
   "metadata": {
    "id": "DRCJG04KRWxJ"
   },
   "source": [
    "## Ejercicio 9\n",
    "1. Escribe un programa que dada una variable titulo busque los libros que hay en la librería con ese título. Si no se encuentra debe devolver el mensaje `Ese no lo tengo, ¿mola?`\n",
    "2. Pruena que el programa con uno de tus libros y con otro que no contenga tu librería."
   ]
  },
  {
   "cell_type": "code",
   "execution_count": 520,
   "metadata": {},
   "outputs": [
    {
     "name": "stdin",
     "output_type": "stream",
     "text": [
      "Que libro quiere? Rayuela\n"
     ]
    },
    {
     "name": "stdout",
     "output_type": "stream",
     "text": [
      "Rayuela son 10 euros\n"
     ]
    },
    {
     "name": "stdin",
     "output_type": "stream",
     "text": [
      "Que libro quiere? El Aleph\n"
     ]
    },
    {
     "name": "stdout",
     "output_type": "stream",
     "text": [
      "El Aleph Ese no lo tengo, ¿mola?\n"
     ]
    }
   ],
   "source": [
    "libreria =[Rayuela, El_tunel, Dubliners, La_Espuma_De_Los_Días ]\n",
    "nombre = input(\"Que libro quiere?\")\n",
    "match nombre:\n",
    "    case \"Rayuela\":\n",
    "        task = \"son 10 euros\"\n",
    "    case \"Dubliners\":\n",
    "        task = \"son 12 euros\"\n",
    "    case \"El_tunel\":\n",
    "        task = \" son 15 euros\"\n",
    "    case _:\n",
    "        task = \"Ese no lo tengo, ¿mola?\"\n",
    "print(nombre , task)\n",
    "\n",
    "nombre = input(\"Que libro quiere?\")\n",
    "\n",
    "match nombre:\n",
    "    case \"Rayuela\":\n",
    "        task = \"son 10 euros\"\n",
    "    case \"Dubliners\":\n",
    "        task = \"son 12 euros\"\n",
    "    case \"El_tunel\":\n",
    "        task = \" son 15 euros\"\n",
    "    case _:\n",
    "        task = \"Ese no lo tengo, ¿mola?\"\n",
    "print(nombre , task)"
   ]
  },
  {
   "cell_type": "markdown",
   "metadata": {
    "id": "17YOpYuFRWxJ"
   },
   "source": [
    "## Ejercicio 10\n",
    "Convierte el programa del ejercicio 2 en una función al que se le pase el valor a buscar como un argumento posicional"
   ]
  },
  {
   "cell_type": "code",
   "execution_count": 574,
   "metadata": {
    "id": "xbj0LgvnRWxJ"
   },
   "outputs": [
    {
     "name": "stdout",
     "output_type": "stream",
     "text": [
      "elementos duplicados: ['un', 'binario', 'es']\n"
     ]
    }
   ],
   "source": [
    "def encontrar_duplicados(ejer_3):\n",
    "    palabra = Counter(ejer_3)\n",
    "    return [item for item, palabra in palabra.items() if palabra > 1] \n",
    "\n",
    "ejer_3 = [\"Un\", \"árbol\", \"binario\", \"es\", \"una\", \"estructura\", \"de\", \"un\", \"tipo\", \"particular\", \"a\", \"veces\", \"no\", \"es\", \"ni\", \"binario\"]\n",
    "ejer_3 [0] = \"un\"\n",
    "\n",
    "print(\"elementos duplicados:\", encontrar_duplicados(ejer_3))"
   ]
  },
  {
   "cell_type": "markdown",
   "metadata": {
    "id": "xZ-sWJxPRWxJ"
   },
   "source": [
    "## Ejercicio 11\n",
    "Convierte el programa del ejercicio 9 en una función al que se le pasen como argumentos la librería, posicional, y el título, argumento keyword con valor \"ninguno\", por defecto."
   ]
  },
  {
   "cell_type": "code",
   "execution_count": 592,
   "metadata": {
    "id": "4-JrsMdNRWxK"
   },
   "outputs": [],
   "source": [
    "libreria =[Rayuela, El_tunel, Dubliners, La_Espuma_De_Los_Días ]\n",
    "\n",
    "def busco_libro(libreria, titulo=\"ninguno\"):\n",
    "    match titulo:\n",
    "        case \"Rayuela\":\n",
    "            task = \"son 10 euros\"\n",
    "        case \"Dubliners\":\n",
    "            task = \"son 12 euros\"\n",
    "        case \"El_tunel\":\n",
    "            task = \"son 15 euros\"\n",
    "        case _:\n",
    "            task = \"Ese no lo tengo, ¿mola?\"\n",
    "    \n",
    "    print(titulo, task)\n",
    "        \n"
   ]
  },
  {
   "cell_type": "markdown",
   "metadata": {
    "id": "FtJir95QRWxK"
   },
   "source": [
    "## Ejercicio 12\n",
    "Solicitar al usuario que ingrese su dirección email. Imprimir un mensaje indicando si la dirección es válida o no, valiéndose de una función para decidirlo. Una dirección se considerará válida si contiene el símbolo \"@\"."
   ]
  },
  {
   "cell_type": "code",
   "execution_count": 544,
   "metadata": {},
   "outputs": [
    {
     "name": "stdin",
     "output_type": "stream",
     "text": [
      "Ingrese su direccion email @Osobuco\n"
     ]
    },
    {
     "name": "stdout",
     "output_type": "stream",
     "text": [
      "Dirección válida\n"
     ]
    }
   ],
   "source": [
    "\n",
    "\n",
    "def validar_email (email):\n",
    "    direccion = \"@\"\n",
    "    solonombre = False\n",
    "    for arroba in email:\n",
    "        if arroba == direccion:\n",
    "            return True\n",
    "    else:\n",
    "        return False\n",
    "\n",
    "\n",
    "email = input(\"Ingrese su direccion email\")\n",
    "\n",
    "if validar_email (email):   \n",
    "    print(\"Dirección válida\")\n",
    "else: \n",
    "    print(\"Dirección inválida\")\n",
    "\n"
   ]
  },
  {
   "cell_type": "markdown",
   "metadata": {
    "id": "Kw1MWBwBRWxK"
   },
   "source": [
    "## Ejercicio 13\n",
    "Escribe una función que compruebe si un DNI es válido, devolviendo `True` en caso afirmativo.  \n",
    "En primer lugar, el DNI debe tener entre 7 y 8 dígitos numéricos.  \n",
    "Para saber si la letra del DNI es correcta puedes utilizar el siguiente fragmento de código:\n",
    ">```Python\n",
    ">DNI= 55555555\n",
    ">palabra='TRWAGMYFPDXBNJZSQVHLCKE'\n",
    ">print('La letra del DNI es: ', palabra[DNI%23])\n",
    ">````\n"
   ]
  },
  {
   "cell_type": "code",
   "execution_count": 618,
   "metadata": {},
   "outputs": [
    {
     "name": "stdout",
     "output_type": "stream",
     "text": [
      "La letra del DNI es:  K\n",
      "True\n",
      "El numero de digitosnumericos no es correcto\n"
     ]
    },
    {
     "data": {
      "text/plain": [
       "False"
      ]
     },
     "execution_count": 618,
     "metadata": {},
     "output_type": "execute_result"
    }
   ],
   "source": [
    "DNI= 55555555\n",
    "palabra='TRWAGMYFPDXBNJZSQVHLCKE'\n",
    "\n",
    "def letra_dni(dni):\n",
    "    if 7 <= len(str(dni)) <= 8:\n",
    "        print( True )\n",
    "    else:\n",
    "        print(\"El numero de digitosnumericos no es correcto\")\n",
    "        return False \n",
    "\n",
    "print('La letra del DNI es: ', palabra[DNI%23])\n",
    "letra_dni(55555555)\n",
    "letra_dni(234)\n"
   ]
  },
  {
   "cell_type": "code",
   "execution_count": 551,
   "metadata": {},
   "outputs": [
    {
     "name": "stdin",
     "output_type": "stream",
     "text": [
      "introduce tu numero de dni:  1234567\n"
     ]
    },
    {
     "name": "stdout",
     "output_type": "stream",
     "text": [
      "el dni: 1234567 es valido\n"
     ]
    },
    {
     "data": {
      "text/plain": [
       "True"
      ]
     },
     "execution_count": 551,
     "metadata": {},
     "output_type": "execute_result"
    }
   ],
   "source": [
    "dni= int(input(\"introduce tu numero de dni: \"))\n",
    "dni_1 = str(dni)\n",
    "numerodni = []\n",
    "for digito in dni_1:\n",
    "    numerodni.append(digito)\n",
    "\n",
    "def verifdni(numerodni):\n",
    "    if 7 <= len(numeroCdni) <= 8:\n",
    "        print(f'el dni: {\"\".join(numerodni)} es valido')\n",
    "        return True\n",
    "    else:\n",
    "        print(f'el dni: {\"\".join(numero)} no es valido')\n",
    "        return False\n",
    "verifdni(numerodni)"
   ]
  },
  {
   "cell_type": "code",
   "execution_count": null,
   "metadata": {},
   "outputs": [],
   "source": []
  }
 ],
 "metadata": {
  "colab": {
   "provenance": []
  },
  "kernelspec": {
   "display_name": "Python 3 (ipykernel)",
   "language": "python",
   "name": "python3"
  },
  "language_info": {
   "codemirror_mode": {
    "name": "ipython",
    "version": 3
   },
   "file_extension": ".py",
   "mimetype": "text/x-python",
   "name": "python",
   "nbconvert_exporter": "python",
   "pygments_lexer": "ipython3",
   "version": "3.13.1"
  }
 },
 "nbformat": 4,
 "nbformat_minor": 4
}
