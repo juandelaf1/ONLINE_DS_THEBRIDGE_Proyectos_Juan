{
 "cells": [
  {
   "cell_type": "markdown",
   "metadata": {
    "id": "liorA-1ZSU4y"
   },
   "source": [
    "# Ejercicios Clases y Objetos"
   ]
  },
  {
   "cell_type": "markdown",
   "metadata": {
    "id": "5xXUz5l9SU4z"
   },
   "source": [
    "## Ejercicio 1\n",
    "Somos una empresa que tiene varias tiendas de electrodomesticos. Necesitamos un programa para manejar las tiendas, ver las ventas que han tenido, cuántos empleados hay, etc... Para ello vamos a modelizar la tienda en una clase, que tendrá las siguientes características:\n",
    "* Nombre clase: \"Tienda\"\n",
    "* Atributos comunes:\n",
    "    * Tipo: \"Electrodomésticos\"\n",
    "    * Abierta: True\n",
    "* Atributos propios de cada tienda:\n",
    "    * Nombre - String\n",
    "    * Dirección - String\n",
    "    * Número de empleados - int\n",
    "    * Ventas ultimos 3 meses - Lista de 3 numeros\n",
    "* Método para calcular las ventas de todos los meses, que devuelva un numero con todas las ventas.\n",
    "* Método que calcula la media de ventas de los ultimos meses, por empleado\n",
    "* Método que devuelve en un string el nombre de la tienda, junto con su dirección.\n",
    "* Método que obtiene las ventas del último mes.\n",
    "* Método para dar una proyección de las ventas en caso de haber invertido X dinero en marketing en esa tienda. Siendo X el parámetro de entrada. Si X es menor de 1000, las ventas de los ultimos 3 meses hubiesen sido de (1.2 x ventas), si es mayor o igual de 1000, las ventas hubiesen sido de (1.5 x venta). El método reescribe el atributo de ventas en los últimos 3 meses, y además devuelve las ventas con el aumento.\n",
    "\n",
    "Se pide:\n",
    "1. Implementar la clase \"Tienda\"\n",
    "2. Crear tres tiendas con datos inventados\n",
    "3. Comprueba en al menos una de ellas, todo lo implementado en la clase tienda (sus atributos, media de ventas, ventas/empleado...)\n",
    "3. Calcular las ventas del último mes de todas las tiendas. Para ello usa el bucle `for`\n",
    "4. Imprime por pantalla los nombres de las tiendas cuya dirección lleve el string \"Avenida\"\n",
    "5. Seguro que ya has hecho este apartado... Documenta la clase :)"
   ]
  },
  {
   "cell_type": "code",
   "execution_count": 103,
   "metadata": {
    "id": "5cLQcLxfSU4z"
   },
   "outputs": [
    {
     "name": "stdout",
     "output_type": "stream",
     "text": [
      "Modelo1 ,  Calle La Palma 44 /Ventas = 50000 /empleado =  5000.0\n",
      "Modelo2 ,  Avenida San Bernardo 15 /Ventas = 33500 /empleado =  6700.0\n",
      "Modelo3 ,  Avenida San Isidro 25 /Ventas = 52500 /empleado =  6562.5\n",
      "Ventas del último mes: 11000\n",
      " último mes Modelo1: 11000\n",
      " último mes Modelo2: 11500\n",
      " último mes Modelo3: 19500\n"
     ]
    }
   ],
   "source": [
    "\n",
    "class Tienda:\n",
    "        \n",
    "    def __init__(self, nombre, direccion, n_empleados , v_3_meses):\n",
    "    \n",
    "        self.tipo = \"electrodomésticos\"\n",
    "        self.abierta =True\n",
    "        self.direccion = direccion\n",
    "        self.nombre = nombre\n",
    "        self.n_empleados = n_empleados\n",
    "        self.v_3_meses = v_3_meses\n",
    "    \n",
    "    def ventas_totales(self):\n",
    "        return (sum(self.v_3_meses))\n",
    "    \n",
    "    def media_empleado (self):\n",
    "        return ((sum(self.v_3_meses) / self.n_empleados))\n",
    "    \n",
    "    def nombre_direccion(self):\n",
    "        return f'{self.nombre} ,  {self.direccion}'\n",
    "\n",
    "    def ventas_ultimo_mes(self):\n",
    "        if self.v_3_meses :\n",
    "            return self.v_3_meses[-1] \n",
    "            \n",
    "        else :\n",
    "                0\n",
    "            \n",
    "    def proyeccion_ventas(self, x):\n",
    "    \n",
    "        if x < 1000:\n",
    "            aumento = 1.2\n",
    "        else:\n",
    "            aumento = 1.5\n",
    "    \n",
    "        prox_venta = [venta * aumento for venta in self.v_3_meses]\n",
    "        self.v_3_meses = prox_venta\n",
    "        return prox_venta\n",
    "\n",
    "\n",
    "\n",
    "Modelo1 = Tienda(\"Modelo1\", \"Calle La Palma 44\", 10, [22000, 17000, 11000])\n",
    "Modelo2 = Tienda(\"Modelo2\", \"Avenida San Bernardo 15\", 5, [13000, 9000, 11500])\n",
    "Modelo3 = Tienda(\"Modelo3\", \"Avenida San Isidro 25\", 8, [15000, 18000, 19500])\n",
    "\n",
    "\n",
    "print(Modelo1.nombre_direccion(), \"/Ventas =\",Modelo1.ventas_totales(), \"/empleado = \",Modelo1.media_empleado())   \n",
    "print(Modelo2.nombre_direccion(), \"/Ventas =\",Modelo2.ventas_totales(), \"/empleado = \",Modelo2.media_empleado())\n",
    "print(Modelo3.nombre_direccion(), \"/Ventas =\",Modelo3.ventas_totales(), \"/empleado = \",Modelo3.media_empleado())\n",
    "\n",
    "print(\"Ventas del último mes:\", Modelo1.ventas_ultimo_mes())\n",
    "\n",
    "\n",
    "for tienda in [Modelo1,Modelo2,Modelo3]:\n",
    "    print(f\" último mes {tienda.nombre}: {tienda.ventas_ultimo_mes()}\")\n",
    "\n",
    "    "
   ]
  },
  {
   "cell_type": "markdown",
   "metadata": {
    "id": "WEBq7EpsSU40"
   },
   "source": [
    "## Ejercicio 2\n",
    "En este ejercicio vamos a implementar una clase *Perro* en Python. La clase tiene las siguientes características:\n",
    "* Cosas que sabemos seguro que tiene un perro\n",
    "    * Tiene 4 patas\n",
    "    * 2 orejas\n",
    "    * 2 ojos\n",
    "    * Una velocidad de 0. Por defecto, el perro está parado\n",
    "* Cuando se inicialice:\n",
    "    * El perro será de una determinada raza\n",
    "    * Por defecto tendrá pelo \"Marrón\", a no ser que se diga lo contrario.\n",
    "    * Por defecto no tendrá dueño, a no ser que se diga lo contrario.\n",
    "    \n",
    "* Dispondrá también de un método llamado andar, que tiene un argumento de entrada (aumento_velocidad). Este valor se le sumará a la velocidad que ya llevaba el perro.\n",
    "* Necesita otro método (parar), donde pondremos la velocidad a 0.\n",
    "* Otro método llamado \"ladrar\", que tendrá un argumento de entrada, y la salida será el siguiente string: \"GUAU!\" + el argumento de entrada.\n",
    "\n",
    "\n",
    "Se pide:\n",
    "* Implementa la clase *Perro*\n",
    "* Crea un objeto de tipo *Perro*, sin dueño\n",
    "* Comprueba que están bien todos sus atributos\n",
    "* Prueba que ande, y comprueba su velocidad\n",
    "* Páralo\n",
    "* Documenta la clase *Perro*"
   ]
  },
  {
   "cell_type": "code",
   "execution_count": 131,
   "metadata": {
    "id": "DpEWvbwGSU40"
   },
   "outputs": [
    {
     "name": "stdout",
     "output_type": "stream",
     "text": [
      "patas :  4\n",
      "Orejas :  2\n",
      "Ojos : 2\n",
      "Velocidad inicial: 0\n",
      "Raza: Labrador\n",
      "Pelo: Marron\n",
      "Dueño:  None\n",
      "Velocidad :  12\n",
      "quieto:  0\n",
      "Donde esta la pelota?! Guau! Guau! \n"
     ]
    }
   ],
   "source": [
    "class Perro:\n",
    "        \n",
    "    def __init__(self,raza, color = \"Marron\", dueño = None,):\n",
    "    \n",
    "        self.tipo = \"Perro\"\n",
    "        self.patas = 4\n",
    "        self.orejas = 2\n",
    "        self.ojos = 2\n",
    "        self.raza = raza\n",
    "        self.velocidad = 0\n",
    "        self.color = color\n",
    "        self.dueño = dueño\n",
    "\n",
    "    def andar(self, aumento_velocidad):\n",
    "        self.velocidad +=aumento_velocidad\n",
    "\n",
    "    def parar(self):\n",
    "        self.velocidad = 0\n",
    "\n",
    "    def ladrar(self, orden):\n",
    "        return f\"{orden} Guau! Guau! \"\n",
    "\n",
    "\n",
    "mi_perro = Perro(raza=\"Chihuahua\")\n",
    "\n",
    "print(\"patas : \",(mi_perro.patas))\n",
    "print(\"Orejas : \", mi_perro.orejas)\n",
    "print(\"Ojos :\", mi_perro.ojos)\n",
    "print(\"Velocidad inicial:\", mi_perro.velocidad)\n",
    "print(\"Raza:\", mi_perro.raza)\n",
    "print(\"Pelo:\" , mi_perro.color)\n",
    "print(\"Dueño: \", mi_perro.dueño)\n",
    "\n",
    "\n",
    "mi_perro.andar(12)\n",
    "print(\"Velocidad : \" , mi_perro.velocidad)\n",
    "\n",
    "mi_perro.parar()\n",
    "print(\"quieto: \", mi_perro.velocidad)\n",
    "\n",
    "print(mi_perro.ladrar(\"Donde esta la pelota?!\"))\n",
    "    "
   ]
  },
  {
   "cell_type": "code",
   "execution_count": null,
   "metadata": {},
   "outputs": [],
   "source": []
  }
 ],
 "metadata": {
  "colab": {
   "provenance": []
  },
  "kernelspec": {
   "display_name": "Python 3 (ipykernel)",
   "language": "python",
   "name": "python3"
  },
  "language_info": {
   "codemirror_mode": {
    "name": "ipython",
    "version": 3
   },
   "file_extension": ".py",
   "mimetype": "text/x-python",
   "name": "python",
   "nbconvert_exporter": "python",
   "pygments_lexer": "ipython3",
   "version": "3.13.1"
  }
 },
 "nbformat": 4,
 "nbformat_minor": 4
}
