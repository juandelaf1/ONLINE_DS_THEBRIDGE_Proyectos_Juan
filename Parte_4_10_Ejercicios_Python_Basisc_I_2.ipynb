{
 "cells": [
  {
   "cell_type": "markdown",
   "metadata": {
    "id": "GB2K42EgK9q5"
   },
  
  },
  {
   "cell_type": "markdown",
   "metadata": {
    "id": "GnwVlO37K9q6"
   },
   "source": [
    "![imagen](./img/ejercicios.png)"
   ]
  },
  {
   "cell_type": "markdown",
   "metadata": {
    "id": "_9pTa0PXK9q6"
   },
   "source": [
    "## EJERCICIOS PYTHON BASICO 2:\n",
    "## Tipos y conversión de tipos"
   ]
  },
  {
   "cell_type": "markdown",
   "metadata": {
    "id": "tYmV-veoK9q6"
   },
   "source": [
    "Completa los siguiente ejercicios, la solución a los mismos se publicarán en el repo del curso a lo largo del sprint"
   ]
  },
  {
   "cell_type": "markdown",
   "metadata": {
    "id": "YAdFbIOXK9q7"
   },
   "source": [
    "![ejercicio.png](./img/ejercicio.png)\n",
    "\n",
    "## Ejercicio 1\n",
    "\n",
    "1. Crea dos variables numericas: un `int` y un `float`\n",
    "2. Comprueba sus tipos\n",
    "3. Sumalas en otra nueva\n",
    "4. ¿De qué tipo es la nueva variable?\n",
    "5. Elimina las dos primeras variables creadas"
   ]
  },
  {
   "cell_type": "code",
   "execution_count": 3,
   "metadata": {
    "id": "8QZmuLOsK9q7"
   },
   "outputs": [
    {
     "name": "stdout",
     "output_type": "stream",
     "text": [
      "<class 'int'>\n",
      "<class 'float'>\n"
     ]
    }
   ],
   "source": [
    "ingresos = 1000\n",
    "gastos = 400.0\n",
    "\n",
    "print (type(ingresos))\n",
    "print (type( gastos))\n"
   ]
  },
  {
   "cell_type": "code",
   "execution_count": 6,
   "metadata": {},
   "outputs": [
    {
     "name": "stdout",
     "output_type": "stream",
     "text": [
      "1400.0\n",
      "<class 'float'>\n"
     ]
    }
   ],
   "source": [
    "balance = ingresos + gastos\n",
    "print(balance)\n",
    "print(type(balance))"
   ]
  },
  {
   "cell_type": "code",
   "execution_count": 12,
   "metadata": {},
   "outputs": [
    {
     "name": "stdout",
     "output_type": "stream",
     "text": [
      "<class 'int'>\n",
      "<class 'float'>\n",
      "1400.0\n",
      "<class 'float'>\n"
     ]
    },
    {
     "ename": "NameError",
     "evalue": "name 'ingresos' is not defined",
     "output_type": "error",
     "traceback": [
      "\u001b[1;31m---------------------------------------------------------------------------\u001b[0m",
      "\u001b[1;31mNameError\u001b[0m                                 Traceback (most recent call last)",
      "Cell \u001b[1;32mIn[12], line 13\u001b[0m\n\u001b[0;32m     10\u001b[0m \u001b[38;5;28;01mdel\u001b[39;00m (ingresos) \n\u001b[0;32m     11\u001b[0m \u001b[38;5;28;01mdel\u001b[39;00m  (gastos)\n\u001b[1;32m---> 13\u001b[0m \u001b[38;5;28mprint\u001b[39m (\u001b[43mingresos\u001b[49m)\n\u001b[0;32m     14\u001b[0m \u001b[38;5;28mprint\u001b[39m (gastos)\n",
      "\u001b[1;31mNameError\u001b[0m: name 'ingresos' is not defined"
     ]
    }
   ],
   "source": [
    "ingresos = 1000\n",
    "gastos = 400.0\n",
    "balance = ingresos + gastos\n",
    "\n",
    "print (type(ingresos))\n",
    "print (type( gastos))\n",
    "print(balance)\n",
    "print(type(balance))\n",
    "\n",
    "del (ingresos) \n",
    "del  (gastos)\n",
    "\n",
    "print (ingresos)\n",
    "print (gastos)"
   ]
  },
  {
   "cell_type": "markdown",
   "metadata": {
    "id": "f5xfpkpQK9q7"
   },
   "source": [
    "![ejercicio.png](./img/ejercicio.png)\n",
    "\n",
    "## Ejercicio 2\n",
    "Escribe un programa para pasar de grados a radianes. Hay que usar `input`. Recuerda que la conversión se realiza mediante\n",
    "\n",
    "radianes = grados*(pi/180)"
   ]
  },
  {
   "cell_type": "code",
   "execution_count": 19,
   "metadata": {
    "id": "V50TUQMzK9q7"
   },
   "outputs": [
    {
     "name": "stdin",
     "output_type": "stream",
     "text": [
      "ingrese los grados 90\n"
     ]
    },
    {
     "name": "stdout",
     "output_type": "stream",
     "text": [
      "(90.0, 'grados, son equivalentes a', 1.5707963267948966, 'radianes.')\n"
     ]
    }
   ],
   "source": [
    "from math import pi\n",
    "\n",
    "grados = float (input (\"ingrese los grados\"))\n",
    "\n",
    "radianes = grados * (pi/180)\n",
    "\n",
    "grados_a_radianes = (grados) , 'grados, son equivalentes a' , (radianes), \"radianes.\"\n",
    "\n",
    "print(grados_a_radianes)"
   ]
  },
  {
   "cell_type": "markdown",
   "metadata": {
    "id": "zX3-p58CK9q7"
   },
   "source": [
    "![ejercicio.png](./img/ejercicio.png)\n",
    "\n",
    "## Ejercicio 3\n",
    "Escribe un programa que calcule el area de un paralelogramo (base x altura). También con `input`"
   ]
  },
  {
   "cell_type": "code",
   "execution_count": 51,
   "metadata": {
    "id": "s2QfNiBAK9q7",
    "scrolled": true
   },
   "outputs": [
    {
     "name": "stdin",
     "output_type": "stream",
     "text": [
      "ingrese valor de la base 50.23\n",
      "ingrese valor de la altura 74.21\n"
     ]
    },
    {
     "name": "stdout",
     "output_type": "stream",
     "text": [
      "El area del paralelogramo es 3727.5682999999995 mts2\n"
     ]
    }
   ],
   "source": [
    "\n",
    "\n",
    "\n",
    "base =  float(input (\"ingrese valor de la base\"))\n",
    "\n",
    "altura = float(input (\"ingrese valor de la altura\"))\n",
    "\n",
    "area_paralelogramo = (base * altura) \n",
    "\n",
    "print (\"El area del paralelogramo es\", (area_paralelogramo), \"mts2\")\n",
    "\n"
   ]
  },
  {
   "cell_type": "markdown",
   "metadata": {
    "id": "-6TBo_HvK9q8"
   },
   "source": [
    "![ejercicio.png](./img/ejercicio.png)\n",
    "\n",
    "## Ejercicio 4\n",
    "Escribe un programa que calcule el area de un paralelogramo (base x altura). También con `input`. En este caso debe ser capaz de admitir valores reales, con decimales, para base y altura en español. (PISTA: Recuerda que tendrás que hacer uso del método replace)"
   ]
  },
  {
   "cell_type": "code",
   "execution_count": 52,
   "metadata": {
    "id": "uzUIa1JqK9q8"
   },
   "outputs": [
    {
     "name": "stdin",
     "output_type": "stream",
     "text": [
      "ingrese valor de la base 12,34\n",
      "ingrese valor de la altura 27,98766543\n"
     ]
    },
    {
     "name": "stdout",
     "output_type": "stream",
     "text": [
      "El area del paralelogramo es 345.3677914062 mts2\n",
      "El area del paralelogramo es 345.37 mts2\n"
     ]
    }
   ],
   "source": [
    "base_real =  input (\"ingrese valor de la base\")\n",
    "base_str = base_real.replace (\",\", \".\")\n",
    "base = float( base_str)\n",
    "altura_real = input (\"ingrese valor de la altura\")\n",
    "altura_str = altura_real.replace (\",\", \".\")\n",
    "altura = float (altura_str)\n",
    "\n",
    "area_paralelogramo = (base * altura) \n",
    "\n",
    "print (\"El area del paralelogramo es\", (area_paralelogramo), \"mts2\")\n",
    "\n",
    "area_redondeada = round (area_paralelogramo, 2 ) \n",
    "\n",
    "print (\"El area del paralelogramo es\", (area_redondeada), \"mts2\")\n"
   ]
  },
  {
   "cell_type": "markdown",
   "metadata": {
    "id": "5zKugi5iK9q8"
   },
   "source": [
    "![ejercicio.png](./img/ejercicio.png)\n",
    "\n",
    "## Ejercicio 5\n",
    "Complete el siguiente código para solicitar al usuario su nombre y su edad. Luego, calcule en qué año nació el usuario y muestre el resultado."
   ]
  },
  {
   "cell_type": "code",
   "execution_count": 56,
   "metadata": {
    "id": "LISfTnRkK9q8"
   },
   "outputs": [
    {
     "name": "stdin",
     "output_type": "stream",
     "text": [
      "¿Cuál es tu nombre?  JUAN\n",
      "¿Cuál es tu edad?  38,6\n"
     ]
    },
    {
     "name": "stdout",
     "output_type": "stream",
     "text": [
      "JUAN, naciste en el año 1986.\n"
     ]
    }
   ],
   "source": [
    "nombre = input(\"¿Cuál es tu nombre? \")\n",
    "edad_real= (input(\"¿Cuál es tu edad? \"))\n",
    "edad = float (edad_real.replace(\",\", \".\"))\n",
    "año_actual = 2025 # Puedes cambiarlo según el año en curso\n",
    "año_nacimiento = round (año_actual - edad)\n",
    "\n",
    "print(f\"{nombre}, naciste en el año {año_nacimiento}.\")\n"
   ]
  },
  {
   "cell_type": "code",
   "execution_count": null,
   "metadata": {},
   "outputs": [],
   "source": []
  }
 ],
 "metadata": {
  "colab": {
   "provenance": []
  },
  "kernelspec": {
   "display_name": "Python 3 (ipykernel)",
   "language": "python",
   "name": "python3"
  },
  "language_info": {
   "codemirror_mode": {
    "name": "ipython",
    "version": 3
   },
   "file_extension": ".py",
   "mimetype": "text/x-python",
   "name": "python",
   "nbconvert_exporter": "python",
   "pygments_lexer": "ipython3",
   "version": "3.13.1"
  }
 },
 "nbformat": 4,
 "nbformat_minor": 4
}
