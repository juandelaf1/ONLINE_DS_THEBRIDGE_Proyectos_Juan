{
 "cells": [
  {
   "cell_type": "markdown",
   "metadata": {
    "id": "Z7vwf0NGIcuw"
   },
   "source": [
    "![TheBridge_logo_RGB_color.jpg](attachment:TheBridge_logo_RGB_color.jpg)"
   ]
  },
  {
   "cell_type": "markdown",
   "metadata": {
    "id": "FZJ_AHlkIcu1"
   },
   "source": [
    "![imagen](./img/ejercicios.png)"
   ]
  },
  {
   "cell_type": "markdown",
   "metadata": {
    "id": "Fo0yerYPIcu3"
   },
   "source": [
    "## EJERCICIOS PYTHON BASICO 4:\n",
    "## Funciones, métodos, listas"
   ]
  },
  {
   "cell_type": "markdown",
   "metadata": {
    "id": "_bGeKmk9Icu4"
   },
   "source": [
    "Completa los siguiente ejercicios, la solución completa a los mismos se publicarán en el repo del curso a lo largo del sprint. En algunos ejercicios se muestra la solución final, para que puedas comprobar que lo has hecho bien, pero lo importante es el código que generes. ¡Vaaamos, a ello...!"
   ]
  },
  {
   "cell_type": "markdown",
   "metadata": {
    "id": "bsW2insmIcu4"
   },
   "source": [
    "![ejercicio.png](./img/ejercicio.png)\n",
    "\n",
    "## Ejercicio 1\n",
    "Para este ejercicio vamos a poner en práctica [las funciones built in](https://docs.python.org/3/library/functions.html).\n",
    "\n",
    "1. Calcula el máximo de la lista: [4, 6, 8, -1]\n",
    "2. Suma todos los elementos de la lista anterior\n",
    "3. Redondea este float a 3 dígitos decimales: 63.451256965\n",
    "4. Valor absoluto de: -74"
   ]
  },
  {
   "cell_type": "code",
   "execution_count": 10,
   "metadata": {
    "id": "GG67iM19Icu5"
   },
   "outputs": [
    {
     "name": "stdout",
     "output_type": "stream",
     "text": [
      "8\n",
      "17\n",
      "4\n",
      "63.451\n",
      "74\n"
     ]
    }
   ],
   "source": [
    "\n",
    "list = [4, 6, 8, -1]\n",
    "#1\n",
    "print(max(list))\n",
    "#2\n",
    "print(sum(list))\n",
    "#2\n",
    "print(len(list))\n",
    "#3\n",
    "print(round(63.451256965, 3))\n",
    "#4\n",
    "print( abs(-74))\n",
    "\n"
   ]
  },
  {
   "cell_type": "markdown",
   "metadata": {
    "id": "MHjOtVyuIcu6"
   },
   "source": [
    "![ejercicio.png](./img/ejercicio.png)\n",
    "\n",
    "## Ejercicio 2\n",
    "Para el siguiente string se pide imprimir por pantalla los siguientes casos\n",
    "\n",
    "    \"En un lugar de la Mancha, de cuyo nombre no quiero acordarme.\"\n",
    "\n",
    "1. Pásalo todo a mayúsculas\n",
    "2. Pásalo todo a minúsculas\n",
    "3. Solo la primera letra de cada palabra en mayúscula, el resto en minúscula\n",
    "4. Crea una lista dividiéndolo por sus espacios\n",
    "5. Sustituye las comas `,` por puntos y comas `;`\n",
    "6. Elimina las `a` minúsculas"
   ]
  },
  {
   "cell_type": "code",
   "execution_count": 103,
   "metadata": {
    "id": "wVmvAwb8Icu7",
    "outputId": "54ac9d37-3afc-4e9d-b975-ab99284dc267"
   },
   "outputs": [
    {
     "name": "stdout",
     "output_type": "stream",
     "text": [
      "EN UN LUGAR DE LA MANCHA, DE CUYO NOMBRE NO QUIERO ACORDARME.\n",
      "en un lugar de la mancha, de cuyo nombre no quiero acordarme.\n",
      "En Un Lugar De La Mancha, De Cuyo Nombre No Quiero Acordarme.\n",
      "['En', 'un', 'lugar', 'de', 'la', 'Mancha,', 'de', 'cuyo', 'nombre', 'no', 'quiero', 'acordarme.']\n",
      "En un lugar de la Mancha; de cuyo nombre no quiero acordarme.\n",
      "En un lugr de l Mnch, de cuyo nombre no quiero cordrme.\n",
      "['En un lug', 'r de l', ' M', 'nch', ', de cuyo nombre no quiero ', 'cord', 'rme.']\n"
     ]
    }
   ],
   "source": [
    "string = \"En un lugar de la Mancha, de cuyo nombre no quiero acordarme.\"\n",
    "mayusculas = string.upper()\n",
    "print (mayusculas)\n",
    "minusculas = string.lower()\n",
    "print(minusculas)\n",
    "titulo = string.title()\n",
    "print(titulo)\n",
    "lista = string.split()\n",
    "print (lista)\n",
    "punto_y_coma = string.replace(\",\",\";\")\n",
    "print(punto_y_coma)\n",
    "modified_string = string.replace (\"a\", \"\")\n",
    "print(modified_string)\n",
    "print(string.split(\"a\"))\n",
    "\n",
    "\n",
    "\n",
    "\n"
   ]
  },
  {
   "cell_type": "markdown",
   "metadata": {
    "id": "r6-th6ElIcu9"
   },
   "source": [
    "![ejercicio.png](./img/ejercicio.png)\n",
    "\n",
    "## Ejercicio 3\n",
    "1. Crea una lista con 3 elementos numéricos\n",
    "2. Añade un cuarto elemento\n",
    "3. Calcula la suma de todos\n",
    "4. Elimina el segundo elemento de la lista\n",
    "5. Añade otro elemento en la posicion 3 de la lista\n",
    "6. Crea otra lista con 4 elementos y concaténala a la que ya tenías.\n",
    "7. Ordena la lista de menor a mayor.\n",
    "8. BONUS: Ordena la lista de mayor a menor.  \n",
    "(*PISTA: Para hacer 8, tendrás que buscar en la información del método...*)  \n",
    "  \n",
    "  \n",
    "NOTA: Pinta por pantalla el resultado de cada paso."
   ]
  },
  {
   "cell_type": "code",
   "execution_count": 127,
   "metadata": {},
   "outputs": [
    {
     "name": "stdout",
     "output_type": "stream",
     "text": [
      "[1, 40, 34]\n",
      "[1, 40, 34, 10]\n",
      "85\n",
      "[1, 40, 10]\n",
      "[1, 40, 144, 10]\n",
      "[1, 40, 144, 10, 1000, 230, 75, 90]\n",
      "[1, 10, 40, 75, 90, 144, 230, 1000]\n",
      "[1000, 230, 144, 90, 75, 40, 10, 1]\n"
     ]
    }
   ],
   "source": [
    "lista =[1,40,34]\n",
    "print(lista)\n",
    "lista.append(10)\n",
    "print(lista)\n",
    "suma = sum(lista)\n",
    "print(suma)\n",
    "lista.pop(2)\n",
    "print (lista)\n",
    "lista.insert(2,144)\n",
    "print(lista)\n",
    "lista_mix =[1000, 230, 75, 90]\n",
    "nueva_lista = lista + lista_mix\n",
    "print(nueva_lista)\n",
    "nueva_lista.sort()\n",
    "print(nueva_lista)\n",
    "nueva_lista.sort(reverse=True)\n",
    "print(nueva_lista)\n"
   ]
  },
  {
   "cell_type": "code",
   "execution_count": null,
   "metadata": {},
   "outputs": [],
   "source": []
  }
 ],
 "metadata": {
  "colab": {
   "provenance": []
  },
  "kernelspec": {
   "display_name": "Python 3 (ipykernel)",
   "language": "python",
   "name": "python3"
  },
  "language_info": {
   "codemirror_mode": {
    "name": "ipython",
    "version": 3
   },
   "file_extension": ".py",
   "mimetype": "text/x-python",
   "name": "python",
   "nbconvert_exporter": "python",
   "pygments_lexer": "ipython3",
   "version": "3.13.1"
  }
 },
 "nbformat": 4,
 "nbformat_minor": 4
}
